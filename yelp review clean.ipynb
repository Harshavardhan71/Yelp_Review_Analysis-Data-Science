{
 "cells": [
  {
   "cell_type": "markdown",
   "metadata": {},
   "source": [
    "Importing Libraries and Initial Setup"
   ]
  },
  {
   "cell_type": "code",
   "execution_count": 29,
   "metadata": {},
   "outputs": [],
   "source": [
    "import pandas as pd\n",
    "import json\n",
    "import seaborn as sns\n",
    "from nltk.tokenize import word_tokenize\n",
    "from wordcloud import WordCloud"
   ]
  },
  {
   "cell_type": "markdown",
   "metadata": {},
   "source": [
    " Display options for pandas\n"
   ]
  },
  {
   "cell_type": "code",
   "execution_count": 30,
   "metadata": {},
   "outputs": [],
   "source": [
    "pd.set_option('display.max_columns', None)\n",
    "pd.options.display.max_seq_items = 2000\n",
    "pd.set_option('display.max_rows', 500)\n",
    "pd.set_option('display.width', 1000)"
   ]
  },
  {
   "cell_type": "markdown",
   "metadata": {},
   "source": [
    "Load and Clean Yelp Business Data\n"
   ]
  },
  {
   "cell_type": "code",
   "execution_count": 31,
   "metadata": {},
   "outputs": [],
   "source": [
    "path = \"data source/archive/yelp_academic_dataset_business.json\"\n",
    "business = pd.read_json(path,lines=True)"
   ]
  },
  {
   "cell_type": "code",
   "execution_count": 32,
   "metadata": {},
   "outputs": [
    {
     "data": {
      "text/plain": [
       "Index(['business_id', 'name', 'address', 'city', 'state', 'postal_code', 'latitude', 'longitude', 'stars', 'review_count', 'is_open', 'attributes', 'categories', 'hours'], dtype='object')"
      ]
     },
     "execution_count": 32,
     "metadata": {},
     "output_type": "execute_result"
    }
   ],
   "source": [
    "business.columns"
   ]
  },
  {
   "cell_type": "code",
   "execution_count": 33,
   "metadata": {},
   "outputs": [],
   "source": [
    "\n",
    "# Drop excess column\n",
    "business.drop(columns=['attributes','hours'], inplace=True)"
   ]
  },
  {
   "cell_type": "code",
   "execution_count": 34,
   "metadata": {},
   "outputs": [
    {
     "data": {
      "text/plain": [
       "0         False\n",
       "1         False\n",
       "2         False\n",
       "3         False\n",
       "4         False\n",
       "          ...  \n",
       "150341    False\n",
       "150342    False\n",
       "150343    False\n",
       "150344    False\n",
       "150345    False\n",
       "Name: business_id, Length: 150346, dtype: bool"
      ]
     },
     "execution_count": 34,
     "metadata": {},
     "output_type": "execute_result"
    }
   ],
   "source": [
    "business.business_id.duplicated()"
   ]
  },
  {
   "cell_type": "code",
   "execution_count": 35,
   "metadata": {},
   "outputs": [
    {
     "data": {
      "text/plain": [
       "Index(['business_id', 'name', 'address', 'city', 'state', 'postal_code', 'latitude', 'longitude', 'stars', 'review_count', 'is_open', 'categories'], dtype='object')"
      ]
     },
     "execution_count": 35,
     "metadata": {},
     "output_type": "execute_result"
    }
   ],
   "source": [
    "business.columns"
   ]
  },
  {
   "cell_type": "code",
   "execution_count": 36,
   "metadata": {},
   "outputs": [],
   "source": [
    "# Remove quotation marks in 'name' and 'address'\n",
    "business['name'] = business['name'].str.replace('\"', '', regex=False)\n",
    "business['address'] = business['address'].str.replace('\"', '', regex=False)"
   ]
  },
  {
   "cell_type": "code",
   "execution_count": 37,
   "metadata": {},
   "outputs": [],
   "source": [
    "# Define US state abbreviations\n",
    "states = [\"AL\", \"AK\", \"AZ\", \"AR\", \"CA\", \"CO\", \"CT\", \"DC\", \"DE\", \"FL\", \"GA\", \n",
    "          \"HI\", \"ID\", \"IL\", \"IN\", \"IA\", \"KS\", \"KY\", \"LA\", \"ME\", \"MD\", \n",
    "          \"MA\", \"MI\", \"MN\", \"MS\", \"MO\", \"MT\", \"NE\", \"NV\", \"NH\", \"NJ\", \n",
    "          \"NM\", \"NY\", \"NC\", \"ND\", \"OH\", \"OK\", \"OR\", \"PA\", \"RI\", \"SC\", \n",
    "          \"SD\", \"TN\", \"TX\", \"UT\", \"VT\", \"VA\", \"WA\", \"WV\", \"WI\", \"WY\"]\n",
    "\n",
    "# Filter businesses located in the US\n",
    "us_businesses = business[business['state'].isin(states)]\n",
    "\n",
    "# Select restaurants only\n",
    "\n",
    "us_restaurants = us_businesses[us_businesses['categories'].str.contains('Restaurants', na=False)]\n",
    "\n"
   ]
  },
  {
   "cell_type": "code",
   "execution_count": 38,
   "metadata": {},
   "outputs": [
    {
     "data": {
      "text/plain": [
       "Index(['business_id', 'name', 'address', 'city', 'state', 'postal_code', 'latitude', 'longitude', 'stars', 'review_count', 'is_open', 'categories'], dtype='object')"
      ]
     },
     "execution_count": 38,
     "metadata": {},
     "output_type": "execute_result"
    }
   ],
   "source": [
    "us_businesses.columns"
   ]
  },
  {
   "cell_type": "code",
   "execution_count": 39,
   "metadata": {},
   "outputs": [
    {
     "data": {
      "text/html": [
       "<div>\n",
       "<style scoped>\n",
       "    .dataframe tbody tr th:only-of-type {\n",
       "        vertical-align: middle;\n",
       "    }\n",
       "\n",
       "    .dataframe tbody tr th {\n",
       "        vertical-align: top;\n",
       "    }\n",
       "\n",
       "    .dataframe thead th {\n",
       "        text-align: right;\n",
       "    }\n",
       "</style>\n",
       "<table border=\"1\" class=\"dataframe\">\n",
       "  <thead>\n",
       "    <tr style=\"text-align: right;\">\n",
       "      <th></th>\n",
       "      <th>business_id</th>\n",
       "      <th>name</th>\n",
       "      <th>address</th>\n",
       "      <th>city</th>\n",
       "      <th>state</th>\n",
       "      <th>postal_code</th>\n",
       "      <th>latitude</th>\n",
       "      <th>longitude</th>\n",
       "      <th>stars</th>\n",
       "      <th>review_count</th>\n",
       "      <th>is_open</th>\n",
       "      <th>categories</th>\n",
       "    </tr>\n",
       "  </thead>\n",
       "  <tbody>\n",
       "    <tr>\n",
       "      <th>3</th>\n",
       "      <td>MTSW4McQd7CbVtyjqoe9mw</td>\n",
       "      <td>St Honore Pastries</td>\n",
       "      <td>935 Race St</td>\n",
       "      <td>Philadelphia</td>\n",
       "      <td>PA</td>\n",
       "      <td>19107</td>\n",
       "      <td>39.955505</td>\n",
       "      <td>-75.155564</td>\n",
       "      <td>4.0</td>\n",
       "      <td>80</td>\n",
       "      <td>1</td>\n",
       "      <td>Restaurants, Food, Bubble Tea, Coffee &amp; Tea, B...</td>\n",
       "    </tr>\n",
       "    <tr>\n",
       "      <th>5</th>\n",
       "      <td>CF33F8-E6oudUQ46HnavjQ</td>\n",
       "      <td>Sonic Drive-In</td>\n",
       "      <td>615 S Main St</td>\n",
       "      <td>Ashland City</td>\n",
       "      <td>TN</td>\n",
       "      <td>37015</td>\n",
       "      <td>36.269593</td>\n",
       "      <td>-87.058943</td>\n",
       "      <td>2.0</td>\n",
       "      <td>6</td>\n",
       "      <td>1</td>\n",
       "      <td>Burgers, Fast Food, Sandwiches, Food, Ice Crea...</td>\n",
       "    </tr>\n",
       "    <tr>\n",
       "      <th>8</th>\n",
       "      <td>k0hlBqXX-Bt0vf1op7Jr1w</td>\n",
       "      <td>Tsevi's Pub And Grill</td>\n",
       "      <td>8025 Mackenzie Rd</td>\n",
       "      <td>Affton</td>\n",
       "      <td>MO</td>\n",
       "      <td>63123</td>\n",
       "      <td>38.565165</td>\n",
       "      <td>-90.321087</td>\n",
       "      <td>3.0</td>\n",
       "      <td>19</td>\n",
       "      <td>0</td>\n",
       "      <td>Pubs, Restaurants, Italian, Bars, American (Tr...</td>\n",
       "    </tr>\n",
       "    <tr>\n",
       "      <th>9</th>\n",
       "      <td>bBDDEgkFA1Otx9Lfe7BZUQ</td>\n",
       "      <td>Sonic Drive-In</td>\n",
       "      <td>2312 Dickerson Pike</td>\n",
       "      <td>Nashville</td>\n",
       "      <td>TN</td>\n",
       "      <td>37207</td>\n",
       "      <td>36.208102</td>\n",
       "      <td>-86.768170</td>\n",
       "      <td>1.5</td>\n",
       "      <td>10</td>\n",
       "      <td>1</td>\n",
       "      <td>Ice Cream &amp; Frozen Yogurt, Fast Food, Burgers,...</td>\n",
       "    </tr>\n",
       "    <tr>\n",
       "      <th>11</th>\n",
       "      <td>eEOYSgkmpB90uNA7lDOMRA</td>\n",
       "      <td>Vietnamese Food Truck</td>\n",
       "      <td></td>\n",
       "      <td>Tampa Bay</td>\n",
       "      <td>FL</td>\n",
       "      <td>33602</td>\n",
       "      <td>27.955269</td>\n",
       "      <td>-82.456320</td>\n",
       "      <td>4.0</td>\n",
       "      <td>10</td>\n",
       "      <td>1</td>\n",
       "      <td>Vietnamese, Food, Restaurants, Food Trucks</td>\n",
       "    </tr>\n",
       "    <tr>\n",
       "      <th>...</th>\n",
       "      <td>...</td>\n",
       "      <td>...</td>\n",
       "      <td>...</td>\n",
       "      <td>...</td>\n",
       "      <td>...</td>\n",
       "      <td>...</td>\n",
       "      <td>...</td>\n",
       "      <td>...</td>\n",
       "      <td>...</td>\n",
       "      <td>...</td>\n",
       "      <td>...</td>\n",
       "      <td>...</td>\n",
       "    </tr>\n",
       "    <tr>\n",
       "      <th>150323</th>\n",
       "      <td>w_4xUt-1AyY2ZwKtnjW0Xg</td>\n",
       "      <td>Bittercreek Alehouse</td>\n",
       "      <td>246 N 8th St</td>\n",
       "      <td>Boise</td>\n",
       "      <td>ID</td>\n",
       "      <td>83702</td>\n",
       "      <td>43.616590</td>\n",
       "      <td>-116.202383</td>\n",
       "      <td>4.5</td>\n",
       "      <td>998</td>\n",
       "      <td>1</td>\n",
       "      <td>Bars, Gastropubs, Sandwiches, Nightlife, Resta...</td>\n",
       "    </tr>\n",
       "    <tr>\n",
       "      <th>150325</th>\n",
       "      <td>l9eLGG9ZKpLJzboZq-9LRQ</td>\n",
       "      <td>Wawa</td>\n",
       "      <td>19 N Bishop Ave</td>\n",
       "      <td>Clifton Heights</td>\n",
       "      <td>PA</td>\n",
       "      <td>19018</td>\n",
       "      <td>39.925656</td>\n",
       "      <td>-75.310344</td>\n",
       "      <td>3.0</td>\n",
       "      <td>11</td>\n",
       "      <td>1</td>\n",
       "      <td>Restaurants, Sandwiches, Convenience Stores, C...</td>\n",
       "    </tr>\n",
       "    <tr>\n",
       "      <th>150327</th>\n",
       "      <td>cM6V90ExQD6KMSU3rRB5ZA</td>\n",
       "      <td>Dutch Bros Coffee</td>\n",
       "      <td>1181 N Milwaukee St</td>\n",
       "      <td>Boise</td>\n",
       "      <td>ID</td>\n",
       "      <td>83704</td>\n",
       "      <td>43.615401</td>\n",
       "      <td>-116.284689</td>\n",
       "      <td>4.0</td>\n",
       "      <td>33</td>\n",
       "      <td>1</td>\n",
       "      <td>Cafes, Juice Bars &amp; Smoothies, Coffee &amp; Tea, R...</td>\n",
       "    </tr>\n",
       "    <tr>\n",
       "      <th>150336</th>\n",
       "      <td>WnT9NIzQgLlILjPT0kEcsQ</td>\n",
       "      <td>Adelita Taqueria &amp; Restaurant</td>\n",
       "      <td>1108 S 9th St</td>\n",
       "      <td>Philadelphia</td>\n",
       "      <td>PA</td>\n",
       "      <td>19147</td>\n",
       "      <td>39.935982</td>\n",
       "      <td>-75.158665</td>\n",
       "      <td>4.5</td>\n",
       "      <td>35</td>\n",
       "      <td>1</td>\n",
       "      <td>Restaurants, Mexican</td>\n",
       "    </tr>\n",
       "    <tr>\n",
       "      <th>150339</th>\n",
       "      <td>2O2K6SXPWv56amqxCECd4w</td>\n",
       "      <td>The Plum Pit</td>\n",
       "      <td>4405 Pennell Rd</td>\n",
       "      <td>Aston</td>\n",
       "      <td>DE</td>\n",
       "      <td>19014</td>\n",
       "      <td>39.856185</td>\n",
       "      <td>-75.427725</td>\n",
       "      <td>4.5</td>\n",
       "      <td>14</td>\n",
       "      <td>1</td>\n",
       "      <td>Restaurants, Comfort Food, Food, Food Trucks, ...</td>\n",
       "    </tr>\n",
       "  </tbody>\n",
       "</table>\n",
       "<p>49857 rows × 12 columns</p>\n",
       "</div>"
      ],
      "text/plain": [
       "                   business_id                           name              address             city state postal_code   latitude   longitude  stars  review_count  is_open                                         categories\n",
       "3       MTSW4McQd7CbVtyjqoe9mw             St Honore Pastries          935 Race St     Philadelphia    PA       19107  39.955505  -75.155564    4.0            80        1  Restaurants, Food, Bubble Tea, Coffee & Tea, B...\n",
       "5       CF33F8-E6oudUQ46HnavjQ                 Sonic Drive-In        615 S Main St     Ashland City    TN       37015  36.269593  -87.058943    2.0             6        1  Burgers, Fast Food, Sandwiches, Food, Ice Crea...\n",
       "8       k0hlBqXX-Bt0vf1op7Jr1w          Tsevi's Pub And Grill    8025 Mackenzie Rd           Affton    MO       63123  38.565165  -90.321087    3.0            19        0  Pubs, Restaurants, Italian, Bars, American (Tr...\n",
       "9       bBDDEgkFA1Otx9Lfe7BZUQ                 Sonic Drive-In  2312 Dickerson Pike        Nashville    TN       37207  36.208102  -86.768170    1.5            10        1  Ice Cream & Frozen Yogurt, Fast Food, Burgers,...\n",
       "11      eEOYSgkmpB90uNA7lDOMRA          Vietnamese Food Truck                             Tampa Bay    FL       33602  27.955269  -82.456320    4.0            10        1         Vietnamese, Food, Restaurants, Food Trucks\n",
       "...                        ...                            ...                  ...              ...   ...         ...        ...         ...    ...           ...      ...                                                ...\n",
       "150323  w_4xUt-1AyY2ZwKtnjW0Xg           Bittercreek Alehouse         246 N 8th St            Boise    ID       83702  43.616590 -116.202383    4.5           998        1  Bars, Gastropubs, Sandwiches, Nightlife, Resta...\n",
       "150325  l9eLGG9ZKpLJzboZq-9LRQ                           Wawa      19 N Bishop Ave  Clifton Heights    PA       19018  39.925656  -75.310344    3.0            11        1  Restaurants, Sandwiches, Convenience Stores, C...\n",
       "150327  cM6V90ExQD6KMSU3rRB5ZA              Dutch Bros Coffee  1181 N Milwaukee St            Boise    ID       83704  43.615401 -116.284689    4.0            33        1  Cafes, Juice Bars & Smoothies, Coffee & Tea, R...\n",
       "150336  WnT9NIzQgLlILjPT0kEcsQ  Adelita Taqueria & Restaurant        1108 S 9th St     Philadelphia    PA       19147  39.935982  -75.158665    4.5            35        1                               Restaurants, Mexican\n",
       "150339  2O2K6SXPWv56amqxCECd4w                   The Plum Pit      4405 Pennell Rd            Aston    DE       19014  39.856185  -75.427725    4.5            14        1  Restaurants, Comfort Food, Food, Food Trucks, ...\n",
       "\n",
       "[49857 rows x 12 columns]"
      ]
     },
     "execution_count": 39,
     "metadata": {},
     "output_type": "execute_result"
    }
   ],
   "source": [
    "us_restaurants"
   ]
  },
  {
   "cell_type": "markdown",
   "metadata": {},
   "source": [
    "Categorize Restaurants by Cuisine"
   ]
  },
  {
   "cell_type": "code",
   "execution_count": 40,
   "metadata": {},
   "outputs": [],
   "source": [
    "# Make a copy of the us_restaurants DataFrame to avoid modifying a slice\n",
    "us_restaurants = us_restaurants.copy()\n",
    "\n",
    "# Define cuisine categories and assign them\n",
    "cuisine_types = {\n",
    "    'American': 'American', 'Mexican': 'Mexican', 'Italian': 'Italian',\n",
    "    'Japanese': 'Japanese', 'Chinese': 'Chinese', 'Thai': 'Thai',\n",
    "    'Mediterranean': 'Mediterranean', 'French': 'French', 'Vietnamese': 'Vietnamese',\n",
    "    'Greek': 'Greek', 'Indian': 'Indian', 'Korean': 'Korean', 'Hawaiian': 'Hawaiian',\n",
    "    'African': 'African', 'Spanish': 'Spanish', 'Middle Eastern': 'Middle_eastern'\n",
    "}\n",
    "\n",
    "# Initialize the 'category' column with empty strings\n",
    "us_restaurants['category'] = ''\n",
    "\n",
    "# Assign categories based on cuisine types\n",
    "for cuisine, pattern in cuisine_types.items():\n",
    "    us_restaurants.loc[us_restaurants['categories'].str.contains(pattern, na=False), 'category'] = cuisine\n",
    "\n",
    "# Drop restaurants without a recognized category\n",
    "us_restaurants = us_restaurants[us_restaurants['category'] != ''].reset_index(drop=True)\n"
   ]
  },
  {
   "cell_type": "code",
   "execution_count": 41,
   "metadata": {},
   "outputs": [],
   "source": [
    "us_restaurants.drop(columns=['categories'], inplace=True)"
   ]
  },
  {
   "cell_type": "code",
   "execution_count": 42,
   "metadata": {},
   "outputs": [],
   "source": [
    "us_restaurants.dropna(axis=0,subset=[\"category\"])\n",
    "us_restaurants=us_restaurants.reset_index(drop=True)"
   ]
  },
  {
   "cell_type": "code",
   "execution_count": 43,
   "metadata": {},
   "outputs": [
    {
     "data": {
      "text/plain": [
       "(28450, 12)"
      ]
     },
     "execution_count": 43,
     "metadata": {},
     "output_type": "execute_result"
    }
   ],
   "source": [
    "us_restaurants.shape"
   ]
  },
  {
   "cell_type": "code",
   "execution_count": 44,
   "metadata": {},
   "outputs": [
    {
     "data": {
      "text/plain": [
       "business_id     0\n",
       "name            0\n",
       "address         0\n",
       "city            0\n",
       "state           0\n",
       "postal_code     0\n",
       "latitude        0\n",
       "longitude       0\n",
       "stars           0\n",
       "review_count    0\n",
       "is_open         0\n",
       "category        0\n",
       "dtype: int64"
      ]
     },
     "execution_count": 44,
     "metadata": {},
     "output_type": "execute_result"
    }
   ],
   "source": [
    "us_restaurants.isnull().sum()"
   ]
  },
  {
   "cell_type": "markdown",
   "metadata": {},
   "source": [
    "clean yelp review"
   ]
  },
  {
   "cell_type": "code",
   "execution_count": 45,
   "metadata": {},
   "outputs": [],
   "source": [
    "path1 = \"data source/archive/yelp_academic_dataset_review.json\""
   ]
  },
  {
   "cell_type": "code",
   "execution_count": 46,
   "metadata": {},
   "outputs": [],
   "source": [
    "# Load Yelp review dataset\n",
    "review_list=[]\n",
    "chunk_size = 1000  # Adjust the chunk size based on your system's memory\n",
    "chunks = pd.read_json(path1, lines=True, chunksize=chunk_size)"
   ]
  },
  {
   "cell_type": "code",
   "execution_count": 47,
   "metadata": {},
   "outputs": [],
   "source": [
    "# Process each chunk and append it to the list\n",
    "for chunk in chunks:\n",
    "    # Perform any processing on the chunk if needed\n",
    "    # e.g., filtering, transformation, etc.\n",
    "    review_list.append(chunk)\n",
    "\n",
    "# Concatenate all chunks into a single DataFrame\n",
    "review1 = pd.concat(review_list, ignore_index=True)"
   ]
  },
  {
   "cell_type": "code",
   "execution_count": 48,
   "metadata": {},
   "outputs": [
    {
     "data": {
      "text/plain": [
       "Index(['review_id', 'user_id', 'business_id', 'stars', 'useful', 'funny', 'cool', 'text', 'date'], dtype='object')"
      ]
     },
     "execution_count": 48,
     "metadata": {},
     "output_type": "execute_result"
    }
   ],
   "source": [
    "review1.columns"
   ]
  },
  {
   "cell_type": "code",
   "execution_count": 49,
   "metadata": {},
   "outputs": [],
   "source": [
    "\n",
    "# Merge business and review data on 'business_id'\n",
    "restaurants_reviews = pd.merge(us_restaurants, review1, on='business_id')\n",
    "\n",
    "# Rename columns for clarity\n",
    "restaurants_reviews.rename(columns={'stars_x': 'avg_star', 'stars_y': 'review_star'}, inplace=True)"
   ]
  },
  {
   "cell_type": "code",
   "execution_count": 50,
   "metadata": {},
   "outputs": [
    {
     "data": {
      "text/plain": [
       "Index(['business_id', 'name', 'address', 'city', 'state', 'postal_code', 'latitude', 'longitude', 'avg_star', 'review_count', 'is_open', 'category', 'review_id', 'user_id', 'review_star', 'useful', 'funny', 'cool', 'text', 'date'], dtype='object')"
      ]
     },
     "execution_count": 50,
     "metadata": {},
     "output_type": "execute_result"
    }
   ],
   "source": [
    "restaurants_reviews.columns"
   ]
  },
  {
   "cell_type": "code",
   "execution_count": 51,
   "metadata": {},
   "outputs": [
    {
     "data": {
      "text/html": [
       "<div>\n",
       "<style scoped>\n",
       "    .dataframe tbody tr th:only-of-type {\n",
       "        vertical-align: middle;\n",
       "    }\n",
       "\n",
       "    .dataframe tbody tr th {\n",
       "        vertical-align: top;\n",
       "    }\n",
       "\n",
       "    .dataframe thead th {\n",
       "        text-align: right;\n",
       "    }\n",
       "</style>\n",
       "<table border=\"1\" class=\"dataframe\">\n",
       "  <thead>\n",
       "    <tr style=\"text-align: right;\">\n",
       "      <th></th>\n",
       "      <th>business_id</th>\n",
       "      <th>name</th>\n",
       "      <th>address</th>\n",
       "      <th>city</th>\n",
       "      <th>state</th>\n",
       "      <th>postal_code</th>\n",
       "      <th>latitude</th>\n",
       "      <th>longitude</th>\n",
       "      <th>avg_star</th>\n",
       "      <th>review_count</th>\n",
       "      <th>is_open</th>\n",
       "      <th>category</th>\n",
       "      <th>review_id</th>\n",
       "      <th>user_id</th>\n",
       "      <th>review_star</th>\n",
       "      <th>useful</th>\n",
       "      <th>funny</th>\n",
       "      <th>cool</th>\n",
       "      <th>text</th>\n",
       "      <th>date</th>\n",
       "    </tr>\n",
       "  </thead>\n",
       "  <tbody>\n",
       "    <tr>\n",
       "      <th>0</th>\n",
       "      <td>k0hlBqXX-Bt0vf1op7Jr1w</td>\n",
       "      <td>Tsevi's Pub And Grill</td>\n",
       "      <td>8025 Mackenzie Rd</td>\n",
       "      <td>Affton</td>\n",
       "      <td>MO</td>\n",
       "      <td>63123</td>\n",
       "      <td>38.565165</td>\n",
       "      <td>-90.321087</td>\n",
       "      <td>3.0</td>\n",
       "      <td>19</td>\n",
       "      <td>0</td>\n",
       "      <td>Greek</td>\n",
       "      <td>9fmAJ76g2-CKbbU14Ai1aw</td>\n",
       "      <td>LNprC9Mi8Xqtgk1KCFlKAg</td>\n",
       "      <td>4</td>\n",
       "      <td>0</td>\n",
       "      <td>0</td>\n",
       "      <td>0</td>\n",
       "      <td>I like Tsevis because they have good gyros, wh...</td>\n",
       "      <td>2014-02-25 22:34:59</td>\n",
       "    </tr>\n",
       "    <tr>\n",
       "      <th>1</th>\n",
       "      <td>k0hlBqXX-Bt0vf1op7Jr1w</td>\n",
       "      <td>Tsevi's Pub And Grill</td>\n",
       "      <td>8025 Mackenzie Rd</td>\n",
       "      <td>Affton</td>\n",
       "      <td>MO</td>\n",
       "      <td>63123</td>\n",
       "      <td>38.565165</td>\n",
       "      <td>-90.321087</td>\n",
       "      <td>3.0</td>\n",
       "      <td>19</td>\n",
       "      <td>0</td>\n",
       "      <td>Greek</td>\n",
       "      <td>OCmjANuYad62GAyY0NI8bQ</td>\n",
       "      <td>z-i_Qv-E3qeHfdPZddpwYQ</td>\n",
       "      <td>4</td>\n",
       "      <td>0</td>\n",
       "      <td>0</td>\n",
       "      <td>0</td>\n",
       "      <td>Good Greek American food. I highly recomend th...</td>\n",
       "      <td>2013-01-29 04:27:04</td>\n",
       "    </tr>\n",
       "    <tr>\n",
       "      <th>2</th>\n",
       "      <td>k0hlBqXX-Bt0vf1op7Jr1w</td>\n",
       "      <td>Tsevi's Pub And Grill</td>\n",
       "      <td>8025 Mackenzie Rd</td>\n",
       "      <td>Affton</td>\n",
       "      <td>MO</td>\n",
       "      <td>63123</td>\n",
       "      <td>38.565165</td>\n",
       "      <td>-90.321087</td>\n",
       "      <td>3.0</td>\n",
       "      <td>19</td>\n",
       "      <td>0</td>\n",
       "      <td>Greek</td>\n",
       "      <td>QPZ66Xk54CprqZgTW1QTdQ</td>\n",
       "      <td>m6YhwUNoehMm6s52w9A4eA</td>\n",
       "      <td>2</td>\n",
       "      <td>0</td>\n",
       "      <td>0</td>\n",
       "      <td>0</td>\n",
       "      <td>Wife and I have eaten lunch here a few times o...</td>\n",
       "      <td>2013-10-25 15:39:01</td>\n",
       "    </tr>\n",
       "    <tr>\n",
       "      <th>3</th>\n",
       "      <td>k0hlBqXX-Bt0vf1op7Jr1w</td>\n",
       "      <td>Tsevi's Pub And Grill</td>\n",
       "      <td>8025 Mackenzie Rd</td>\n",
       "      <td>Affton</td>\n",
       "      <td>MO</td>\n",
       "      <td>63123</td>\n",
       "      <td>38.565165</td>\n",
       "      <td>-90.321087</td>\n",
       "      <td>3.0</td>\n",
       "      <td>19</td>\n",
       "      <td>0</td>\n",
       "      <td>Greek</td>\n",
       "      <td>yUpKEiSWjcix-zWHFMT39w</td>\n",
       "      <td>-YAnRx8VSDkASxlylv3dyg</td>\n",
       "      <td>1</td>\n",
       "      <td>0</td>\n",
       "      <td>0</td>\n",
       "      <td>0</td>\n",
       "      <td>After about 7 minutes of waiting patiently for...</td>\n",
       "      <td>2014-07-16 19:17:34</td>\n",
       "    </tr>\n",
       "    <tr>\n",
       "      <th>4</th>\n",
       "      <td>k0hlBqXX-Bt0vf1op7Jr1w</td>\n",
       "      <td>Tsevi's Pub And Grill</td>\n",
       "      <td>8025 Mackenzie Rd</td>\n",
       "      <td>Affton</td>\n",
       "      <td>MO</td>\n",
       "      <td>63123</td>\n",
       "      <td>38.565165</td>\n",
       "      <td>-90.321087</td>\n",
       "      <td>3.0</td>\n",
       "      <td>19</td>\n",
       "      <td>0</td>\n",
       "      <td>Greek</td>\n",
       "      <td>JR0MWE4psJqD2MyHbMckxA</td>\n",
       "      <td>WJ-veSDe63t0HnCu2E1NSA</td>\n",
       "      <td>1</td>\n",
       "      <td>3</td>\n",
       "      <td>0</td>\n",
       "      <td>0</td>\n",
       "      <td>Three of us decided to try this place out last...</td>\n",
       "      <td>2012-12-17 18:37:23</td>\n",
       "    </tr>\n",
       "    <tr>\n",
       "      <th>...</th>\n",
       "      <td>...</td>\n",
       "      <td>...</td>\n",
       "      <td>...</td>\n",
       "      <td>...</td>\n",
       "      <td>...</td>\n",
       "      <td>...</td>\n",
       "      <td>...</td>\n",
       "      <td>...</td>\n",
       "      <td>...</td>\n",
       "      <td>...</td>\n",
       "      <td>...</td>\n",
       "      <td>...</td>\n",
       "      <td>...</td>\n",
       "      <td>...</td>\n",
       "      <td>...</td>\n",
       "      <td>...</td>\n",
       "      <td>...</td>\n",
       "      <td>...</td>\n",
       "      <td>...</td>\n",
       "      <td>...</td>\n",
       "    </tr>\n",
       "    <tr>\n",
       "      <th>3191289</th>\n",
       "      <td>WnT9NIzQgLlILjPT0kEcsQ</td>\n",
       "      <td>Adelita Taqueria &amp; Restaurant</td>\n",
       "      <td>1108 S 9th St</td>\n",
       "      <td>Philadelphia</td>\n",
       "      <td>PA</td>\n",
       "      <td>19147</td>\n",
       "      <td>39.935982</td>\n",
       "      <td>-75.158665</td>\n",
       "      <td>4.5</td>\n",
       "      <td>35</td>\n",
       "      <td>1</td>\n",
       "      <td>Mexican</td>\n",
       "      <td>qBcwQEQPnLxjkw-xbUIF4Q</td>\n",
       "      <td>6nF5PT1c0dF6EpOgQdF2tw</td>\n",
       "      <td>5</td>\n",
       "      <td>0</td>\n",
       "      <td>0</td>\n",
       "      <td>0</td>\n",
       "      <td>Ordered delivery for some tacos on a Saturday ...</td>\n",
       "      <td>2020-12-06 00:19:29</td>\n",
       "    </tr>\n",
       "    <tr>\n",
       "      <th>3191290</th>\n",
       "      <td>WnT9NIzQgLlILjPT0kEcsQ</td>\n",
       "      <td>Adelita Taqueria &amp; Restaurant</td>\n",
       "      <td>1108 S 9th St</td>\n",
       "      <td>Philadelphia</td>\n",
       "      <td>PA</td>\n",
       "      <td>19147</td>\n",
       "      <td>39.935982</td>\n",
       "      <td>-75.158665</td>\n",
       "      <td>4.5</td>\n",
       "      <td>35</td>\n",
       "      <td>1</td>\n",
       "      <td>Mexican</td>\n",
       "      <td>G8fbysnUAUmqq1XWTjMQ4Q</td>\n",
       "      <td>1M78_w4J9f5S8xmUVYyxdQ</td>\n",
       "      <td>5</td>\n",
       "      <td>2</td>\n",
       "      <td>1</td>\n",
       "      <td>1</td>\n",
       "      <td>First time trying this restaurant and I had a ...</td>\n",
       "      <td>2020-11-30 23:19:40</td>\n",
       "    </tr>\n",
       "    <tr>\n",
       "      <th>3191291</th>\n",
       "      <td>WnT9NIzQgLlILjPT0kEcsQ</td>\n",
       "      <td>Adelita Taqueria &amp; Restaurant</td>\n",
       "      <td>1108 S 9th St</td>\n",
       "      <td>Philadelphia</td>\n",
       "      <td>PA</td>\n",
       "      <td>19147</td>\n",
       "      <td>39.935982</td>\n",
       "      <td>-75.158665</td>\n",
       "      <td>4.5</td>\n",
       "      <td>35</td>\n",
       "      <td>1</td>\n",
       "      <td>Mexican</td>\n",
       "      <td>JKiy0aeyGd3KmXN7uRPFLw</td>\n",
       "      <td>B7TD5yTemGv50y4wM2EVNA</td>\n",
       "      <td>5</td>\n",
       "      <td>1</td>\n",
       "      <td>1</td>\n",
       "      <td>1</td>\n",
       "      <td>This restaurant is truly amazing!!! The owner ...</td>\n",
       "      <td>2021-03-27 19:33:29</td>\n",
       "    </tr>\n",
       "    <tr>\n",
       "      <th>3191292</th>\n",
       "      <td>WnT9NIzQgLlILjPT0kEcsQ</td>\n",
       "      <td>Adelita Taqueria &amp; Restaurant</td>\n",
       "      <td>1108 S 9th St</td>\n",
       "      <td>Philadelphia</td>\n",
       "      <td>PA</td>\n",
       "      <td>19147</td>\n",
       "      <td>39.935982</td>\n",
       "      <td>-75.158665</td>\n",
       "      <td>4.5</td>\n",
       "      <td>35</td>\n",
       "      <td>1</td>\n",
       "      <td>Mexican</td>\n",
       "      <td>JITY01bGbdsiUBznLz9rdg</td>\n",
       "      <td>HI8QwhpeP_ZRY5JZy11VDw</td>\n",
       "      <td>4</td>\n",
       "      <td>1</td>\n",
       "      <td>0</td>\n",
       "      <td>0</td>\n",
       "      <td>Recently got take out from adelita; they were ...</td>\n",
       "      <td>2021-02-07 15:09:25</td>\n",
       "    </tr>\n",
       "    <tr>\n",
       "      <th>3191293</th>\n",
       "      <td>WnT9NIzQgLlILjPT0kEcsQ</td>\n",
       "      <td>Adelita Taqueria &amp; Restaurant</td>\n",
       "      <td>1108 S 9th St</td>\n",
       "      <td>Philadelphia</td>\n",
       "      <td>PA</td>\n",
       "      <td>19147</td>\n",
       "      <td>39.935982</td>\n",
       "      <td>-75.158665</td>\n",
       "      <td>4.5</td>\n",
       "      <td>35</td>\n",
       "      <td>1</td>\n",
       "      <td>Mexican</td>\n",
       "      <td>VzKF0662H2NLbpbmGv20Ug</td>\n",
       "      <td>CmR9s-2zH20UkmUt5Qwqnw</td>\n",
       "      <td>4</td>\n",
       "      <td>3</td>\n",
       "      <td>1</td>\n",
       "      <td>2</td>\n",
       "      <td>Another pretty good Mexican place to add into ...</td>\n",
       "      <td>2019-12-23 12:52:26</td>\n",
       "    </tr>\n",
       "  </tbody>\n",
       "</table>\n",
       "<p>3191294 rows × 20 columns</p>\n",
       "</div>"
      ],
      "text/plain": [
       "                    business_id                           name            address          city state postal_code   latitude  longitude  avg_star  review_count  is_open category               review_id                 user_id  review_star  useful  funny  cool                                               text                date\n",
       "0        k0hlBqXX-Bt0vf1op7Jr1w          Tsevi's Pub And Grill  8025 Mackenzie Rd        Affton    MO       63123  38.565165 -90.321087       3.0            19        0    Greek  9fmAJ76g2-CKbbU14Ai1aw  LNprC9Mi8Xqtgk1KCFlKAg            4       0      0     0  I like Tsevis because they have good gyros, wh... 2014-02-25 22:34:59\n",
       "1        k0hlBqXX-Bt0vf1op7Jr1w          Tsevi's Pub And Grill  8025 Mackenzie Rd        Affton    MO       63123  38.565165 -90.321087       3.0            19        0    Greek  OCmjANuYad62GAyY0NI8bQ  z-i_Qv-E3qeHfdPZddpwYQ            4       0      0     0  Good Greek American food. I highly recomend th... 2013-01-29 04:27:04\n",
       "2        k0hlBqXX-Bt0vf1op7Jr1w          Tsevi's Pub And Grill  8025 Mackenzie Rd        Affton    MO       63123  38.565165 -90.321087       3.0            19        0    Greek  QPZ66Xk54CprqZgTW1QTdQ  m6YhwUNoehMm6s52w9A4eA            2       0      0     0  Wife and I have eaten lunch here a few times o... 2013-10-25 15:39:01\n",
       "3        k0hlBqXX-Bt0vf1op7Jr1w          Tsevi's Pub And Grill  8025 Mackenzie Rd        Affton    MO       63123  38.565165 -90.321087       3.0            19        0    Greek  yUpKEiSWjcix-zWHFMT39w  -YAnRx8VSDkASxlylv3dyg            1       0      0     0  After about 7 minutes of waiting patiently for... 2014-07-16 19:17:34\n",
       "4        k0hlBqXX-Bt0vf1op7Jr1w          Tsevi's Pub And Grill  8025 Mackenzie Rd        Affton    MO       63123  38.565165 -90.321087       3.0            19        0    Greek  JR0MWE4psJqD2MyHbMckxA  WJ-veSDe63t0HnCu2E1NSA            1       3      0     0  Three of us decided to try this place out last... 2012-12-17 18:37:23\n",
       "...                         ...                            ...                ...           ...   ...         ...        ...        ...       ...           ...      ...      ...                     ...                     ...          ...     ...    ...   ...                                                ...                 ...\n",
       "3191289  WnT9NIzQgLlILjPT0kEcsQ  Adelita Taqueria & Restaurant      1108 S 9th St  Philadelphia    PA       19147  39.935982 -75.158665       4.5            35        1  Mexican  qBcwQEQPnLxjkw-xbUIF4Q  6nF5PT1c0dF6EpOgQdF2tw            5       0      0     0  Ordered delivery for some tacos on a Saturday ... 2020-12-06 00:19:29\n",
       "3191290  WnT9NIzQgLlILjPT0kEcsQ  Adelita Taqueria & Restaurant      1108 S 9th St  Philadelphia    PA       19147  39.935982 -75.158665       4.5            35        1  Mexican  G8fbysnUAUmqq1XWTjMQ4Q  1M78_w4J9f5S8xmUVYyxdQ            5       2      1     1  First time trying this restaurant and I had a ... 2020-11-30 23:19:40\n",
       "3191291  WnT9NIzQgLlILjPT0kEcsQ  Adelita Taqueria & Restaurant      1108 S 9th St  Philadelphia    PA       19147  39.935982 -75.158665       4.5            35        1  Mexican  JKiy0aeyGd3KmXN7uRPFLw  B7TD5yTemGv50y4wM2EVNA            5       1      1     1  This restaurant is truly amazing!!! The owner ... 2021-03-27 19:33:29\n",
       "3191292  WnT9NIzQgLlILjPT0kEcsQ  Adelita Taqueria & Restaurant      1108 S 9th St  Philadelphia    PA       19147  39.935982 -75.158665       4.5            35        1  Mexican  JITY01bGbdsiUBznLz9rdg  HI8QwhpeP_ZRY5JZy11VDw            4       1      0     0  Recently got take out from adelita; they were ... 2021-02-07 15:09:25\n",
       "3191293  WnT9NIzQgLlILjPT0kEcsQ  Adelita Taqueria & Restaurant      1108 S 9th St  Philadelphia    PA       19147  39.935982 -75.158665       4.5            35        1  Mexican  VzKF0662H2NLbpbmGv20Ug  CmR9s-2zH20UkmUt5Qwqnw            4       3      1     2  Another pretty good Mexican place to add into ... 2019-12-23 12:52:26\n",
       "\n",
       "[3191294 rows x 20 columns]"
      ]
     },
     "execution_count": 51,
     "metadata": {},
     "output_type": "execute_result"
    }
   ],
   "source": [
    "restaurants_reviews"
   ]
  },
  {
   "cell_type": "markdown",
   "metadata": {},
   "source": [
    "Add Review Metadata"
   ]
  },
  {
   "cell_type": "code",
   "execution_count": 52,
   "metadata": {},
   "outputs": [],
   "source": [
    "\n",
    "# Add number of words in each review\n",
    "restaurants_reviews['num_words_review'] = (\n",
    "    restaurants_reviews['text']\n",
    "    .str.replace('\\n', '', regex=True)\n",
    "    .str.replace(r'[!\"#$%&\\()*+,-./:;<=>?@[\\\\]^_`{|}~]', '', regex=True)\n",
    "    .str.split()\n",
    "    .str.len()\n",
    ")\n",
    "# Label reviews as positive or negative\n",
    "restaurants_reviews['labels'] = restaurants_reviews['review_star'].apply(\n",
    "    lambda x: 'positive' if x >= 4 else 'negative' if x < 3 else 'neutral'\n",
    ")\n",
    "\n",
    "# Drop neutral reviews for simplicity\n",
    "restaurants_reviews = restaurants_reviews[restaurants_reviews['labels'] != 'neutral'].reset_index(drop=True)\n"
   ]
  },
  {
   "cell_type": "markdown",
   "metadata": {},
   "source": [
    "Final Data Inspection"
   ]
  },
  {
   "cell_type": "code",
   "execution_count": 53,
   "metadata": {},
   "outputs": [
    {
     "data": {
      "text/plain": [
       "<bound method NDFrame.head of                     business_id                           name            address          city state postal_code   latitude  longitude  avg_star  review_count  is_open category               review_id                 user_id  review_star  useful  funny  cool                                               text                date  num_words_review    labels\n",
       "0        k0hlBqXX-Bt0vf1op7Jr1w          Tsevi's Pub And Grill  8025 Mackenzie Rd        Affton    MO       63123  38.565165 -90.321087       3.0            19        0    Greek  9fmAJ76g2-CKbbU14Ai1aw  LNprC9Mi8Xqtgk1KCFlKAg            4       0      0     0  I like Tsevis because they have good gyros, wh... 2014-02-25 22:34:59                53  positive\n",
       "1        k0hlBqXX-Bt0vf1op7Jr1w          Tsevi's Pub And Grill  8025 Mackenzie Rd        Affton    MO       63123  38.565165 -90.321087       3.0            19        0    Greek  OCmjANuYad62GAyY0NI8bQ  z-i_Qv-E3qeHfdPZddpwYQ            4       0      0     0  Good Greek American food. I highly recomend th... 2013-01-29 04:27:04                26  positive\n",
       "2        k0hlBqXX-Bt0vf1op7Jr1w          Tsevi's Pub And Grill  8025 Mackenzie Rd        Affton    MO       63123  38.565165 -90.321087       3.0            19        0    Greek  QPZ66Xk54CprqZgTW1QTdQ  m6YhwUNoehMm6s52w9A4eA            2       0      0     0  Wife and I have eaten lunch here a few times o... 2013-10-25 15:39:01               184  negative\n",
       "3        k0hlBqXX-Bt0vf1op7Jr1w          Tsevi's Pub And Grill  8025 Mackenzie Rd        Affton    MO       63123  38.565165 -90.321087       3.0            19        0    Greek  yUpKEiSWjcix-zWHFMT39w  -YAnRx8VSDkASxlylv3dyg            1       0      0     0  After about 7 minutes of waiting patiently for... 2014-07-16 19:17:34               189  negative\n",
       "4        k0hlBqXX-Bt0vf1op7Jr1w          Tsevi's Pub And Grill  8025 Mackenzie Rd        Affton    MO       63123  38.565165 -90.321087       3.0            19        0    Greek  JR0MWE4psJqD2MyHbMckxA  WJ-veSDe63t0HnCu2E1NSA            1       3      0     0  Three of us decided to try this place out last... 2012-12-17 18:37:23               224  negative\n",
       "...                         ...                            ...                ...           ...   ...         ...        ...        ...       ...           ...      ...      ...                     ...                     ...          ...     ...    ...   ...                                                ...                 ...               ...       ...\n",
       "2817230  WnT9NIzQgLlILjPT0kEcsQ  Adelita Taqueria & Restaurant      1108 S 9th St  Philadelphia    PA       19147  39.935982 -75.158665       4.5            35        1  Mexican  qBcwQEQPnLxjkw-xbUIF4Q  6nF5PT1c0dF6EpOgQdF2tw            5       0      0     0  Ordered delivery for some tacos on a Saturday ... 2020-12-06 00:19:29                54  positive\n",
       "2817231  WnT9NIzQgLlILjPT0kEcsQ  Adelita Taqueria & Restaurant      1108 S 9th St  Philadelphia    PA       19147  39.935982 -75.158665       4.5            35        1  Mexican  G8fbysnUAUmqq1XWTjMQ4Q  1M78_w4J9f5S8xmUVYyxdQ            5       2      1     1  First time trying this restaurant and I had a ... 2020-11-30 23:19:40               125  positive\n",
       "2817232  WnT9NIzQgLlILjPT0kEcsQ  Adelita Taqueria & Restaurant      1108 S 9th St  Philadelphia    PA       19147  39.935982 -75.158665       4.5            35        1  Mexican  JKiy0aeyGd3KmXN7uRPFLw  B7TD5yTemGv50y4wM2EVNA            5       1      1     1  This restaurant is truly amazing!!! The owner ... 2021-03-27 19:33:29                55  positive\n",
       "2817233  WnT9NIzQgLlILjPT0kEcsQ  Adelita Taqueria & Restaurant      1108 S 9th St  Philadelphia    PA       19147  39.935982 -75.158665       4.5            35        1  Mexican  JITY01bGbdsiUBznLz9rdg  HI8QwhpeP_ZRY5JZy11VDw            4       1      0     0  Recently got take out from adelita; they were ... 2021-02-07 15:09:25                64  positive\n",
       "2817234  WnT9NIzQgLlILjPT0kEcsQ  Adelita Taqueria & Restaurant      1108 S 9th St  Philadelphia    PA       19147  39.935982 -75.158665       4.5            35        1  Mexican  VzKF0662H2NLbpbmGv20Ug  CmR9s-2zH20UkmUt5Qwqnw            4       3      1     2  Another pretty good Mexican place to add into ... 2019-12-23 12:52:26               128  positive\n",
       "\n",
       "[2817235 rows x 22 columns]>"
      ]
     },
     "execution_count": 53,
     "metadata": {},
     "output_type": "execute_result"
    }
   ],
   "source": [
    "# Inspect the cleaned and prepared DataFrame\n",
    "restaurants_reviews.head"
   ]
  },
  {
   "cell_type": "code",
   "execution_count": 55,
   "metadata": {},
   "outputs": [],
   "source": [
    "restaurants_reviews.to_parquet('output_file.parquet', engine='pyarrow', index=False)"
   ]
  }
 ],
 "metadata": {
  "kernelspec": {
   "display_name": "pyenv",
   "language": "python",
   "name": "python3"
  },
  "language_info": {
   "codemirror_mode": {
    "name": "ipython",
    "version": 3
   },
   "file_extension": ".py",
   "mimetype": "text/x-python",
   "name": "python",
   "nbconvert_exporter": "python",
   "pygments_lexer": "ipython3",
   "version": "3.13.2"
  }
 },
 "nbformat": 4,
 "nbformat_minor": 2
}
